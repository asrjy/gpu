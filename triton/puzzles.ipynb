{
 "cells": [
  {
   "cell_type": "code",
   "execution_count": 1,
   "metadata": {},
   "outputs": [],
   "source": [
    "import torch \n",
    "import triton \n",
    "from torch import Tensor \n",
    "import triton.language as tl\n",
    "import jaxtyping \n",
    "from jaxtyping import Float32, Int32"
   ]
  },
  {
   "cell_type": "code",
   "execution_count": 2,
   "metadata": {},
   "outputs": [
    {
     "name": "stderr",
     "output_type": "stream",
     "text": [
      "/home/yash/.local/lib/python3.10/site-packages/tqdm/auto.py:21: TqdmWarning: IProgress not found. Please update jupyter and ipywidgets. See https://ipywidgets.readthedocs.io/en/stable/user_install.html\n",
      "  from .autonotebook import tqdm as notebook_tqdm\n"
     ]
    }
   ],
   "source": [
    "import triton_viz\n",
    "import inspect\n",
    "from triton_viz.interpreter import record_builder\n",
    "\n",
    "def test(puzzle, puzzle_spec, nelem={}, B={\"B0\": 32}, viz=True):\n",
    "    B = dict(B)\n",
    "    if \"N1\" in nelem and \"B1\" not in B:\n",
    "        B[\"B1\"] = 32\n",
    "    if \"N2\" in nelem and \"B2\" not in B:\n",
    "        B[\"B2\"] = 32\n",
    "\n",
    "    triton_viz.interpreter.record_builder.reset()\n",
    "    torch.manual_seed(0)\n",
    "    signature = inspect.signature(puzzle_spec)\n",
    "    args = {}\n",
    "    for n, p in signature.parameters.items():\n",
    "        print(p)\n",
    "        args[n + \"_ptr\"] = ([d.size for d in p.annotation.dims], p)\n",
    "    args[\"z_ptr\"] = ([d.size for d in signature.return_annotation.dims], None)\n",
    "\n",
    "    tt_args = []\n",
    "    for k, (v, t) in args.items():\n",
    "        tt_args.append(torch.rand(*v) - 0.5)\n",
    "        if t is not None and t.annotation.dtypes[0] == \"int32\":\n",
    "            tt_args[-1] = torch.randint(-100000, 100000, v)\n",
    "    grid = lambda meta: (triton.cdiv(nelem[\"N0\"], meta[\"B0\"]),\n",
    "                         triton.cdiv(nelem.get(\"N1\", 1), meta.get(\"B1\", 1)),\n",
    "                         triton.cdiv(nelem.get(\"N2\", 1), meta.get(\"B2\", 1)))\n",
    "\n",
    "    #for k, v in args.items():\n",
    "    #    print(k, v)\n",
    "    triton_viz.trace(puzzle)[grid](*tt_args, **B, **nelem)\n",
    "    z = tt_args[-1]\n",
    "    tt_args = tt_args[:-1]\n",
    "    z_ = puzzle_spec(*tt_args)\n",
    "    match = torch.allclose(z, z_, rtol=1e-3, atol=1e-3)\n",
    "    print(\"Results match:\",  match)\n",
    "    failures = False\n",
    "    if viz:\n",
    "        failures = triton_viz.launch()\n",
    "    if not match or failures:\n",
    "        print(\"Invalid Access:\", failures)\n",
    "        print(\"Yours:\", z)\n",
    "        print(\"Spec:\", z_)\n",
    "        print(torch.isclose(z, z_))\n",
    "        return\n",
    "    # PUPPIES!\n",
    "    from IPython.display import HTML\n",
    "    import random\n",
    "    print(\"Correct!\")\n",
    "    pups = [\n",
    "    \"2m78jPG\",\n",
    "    \"pn1e9TO\",\n",
    "    \"MQCIwzT\",\n",
    "    \"udLK6FS\",\n",
    "    \"ZNem5o3\",\n",
    "    \"DS2IZ6K\",\n",
    "    \"aydRUz8\",\n",
    "    \"MVUdQYK\",\n",
    "    \"kLvno0p\",\n",
    "    \"wScLiVz\",\n",
    "    \"Z0TII8i\",\n",
    "    \"F1SChho\",\n",
    "    \"9hRi2jN\",\n",
    "    \"lvzRF3W\",\n",
    "    \"fqHxOGI\",\n",
    "    \"1xeUYme\",\n",
    "    \"6tVqKyM\",\n",
    "    \"CCxZ6Wr\",\n",
    "    \"lMW0OPQ\",\n",
    "    \"wHVpHVG\",\n",
    "    \"Wj2PGRl\",\n",
    "    \"HlaTE8H\",\n",
    "    \"k5jALH0\",\n",
    "    \"3V37Hqr\",\n",
    "    \"Eq2uMTA\",\n",
    "    \"Vy9JShx\",\n",
    "    \"g9I2ZmK\",\n",
    "    \"Nu4RH7f\",\n",
    "    \"sWp0Dqd\",\n",
    "    \"bRKfspn\",\n",
    "    \"qawCMl5\",\n",
    "    \"2F6j2B4\",\n",
    "    \"fiJxCVA\",\n",
    "    \"pCAIlxD\",\n",
    "    \"zJx2skh\",\n",
    "    \"2Gdl1u7\",\n",
    "    \"aJJAY4c\",\n",
    "    \"ros6RLC\",\n",
    "    \"DKLBJh7\",\n",
    "    \"eyxH0Wc\",\n",
    "    \"rJEkEw4\"]\n",
    "    return HTML(\"\"\"\n",
    "    <video alt=\"test\" controls autoplay=1>\n",
    "        <source src=\"https://openpuppies.com/mp4/%s.mp4\"  type=\"video/mp4\">\n",
    "    </video>\n",
    "    \"\"\"%(random.sample(pups, 1)[0]))"
   ]
  },
  {
   "cell_type": "code",
   "execution_count": 3,
   "metadata": {},
   "outputs": [
    {
     "name": "stdout",
     "output_type": "stream",
     "text": [
      "[0 1 2 3 4 5 6 7]\n",
      "[1. 1. 1. 1. 1. 0. 0. 0.]\n"
     ]
    },
    {
     "name": "stdout",
     "output_type": "stream",
     "text": [
      "* Running on public URL: https://2a2e76ba0dc21b70f3.gradio.live\n"
     ]
    },
    {
     "data": {
      "text/html": [
       "<div><iframe src=\"https://2a2e76ba0dc21b70f3.gradio.live\" width=\"100%\" height=\"800\" allow=\"autoplay; camera; microphone; clipboard-read; clipboard-write;\" frameborder=\"0\" allowfullscreen></iframe></div>"
      ],
      "text/plain": [
       "<IPython.core.display.HTML object>"
      ]
     },
     "metadata": {},
     "output_type": "display_data"
    },
    {
     "data": {
      "text/plain": [
       "{}"
      ]
     },
     "execution_count": 3,
     "metadata": {},
     "output_type": "execute_result"
    }
   ],
   "source": [
    "@triton.jit\n",
    "def demo(x_ptr):\n",
    "    range = tl.arange(0, 8)\n",
    "    print(range)\n",
    "    # adding here means we are creating set of memory address to load from. not mathematical addition. \n",
    "    x = tl.load(x_ptr + range, range < 5, 0)\n",
    "    print(x)\n",
    "\n",
    "triton_viz.trace(demo)[(1, 1, 1)](torch.ones(4, 3))\n",
    "triton_viz.launch()"
   ]
  },
  {
   "cell_type": "code",
   "execution_count": 4,
   "metadata": {},
   "outputs": [
    {
     "name": "stdout",
     "output_type": "stream",
     "text": [
      "[[ 0  1  2  3  4  5  6  7]\n",
      " [ 4  5  6  7  8  9 10 11]\n",
      " [ 8  9 10 11 12 13 14 15]\n",
      " [12 13 14 15 16 17 18 19]\n",
      " [16 17 18 19 20 21 22 23]\n",
      " [20 21 22 23 24 25 26 27]\n",
      " [24 25 26 27 28 29 30 31]\n",
      " [28 29 30 31 32 33 34 35]]\n",
      "[[1. 1. 1. 0. 0. 0. 0. 0.]\n",
      " [1. 1. 1. 0. 0. 0. 0. 0.]\n",
      " [1. 1. 1. 0. 0. 0. 0. 0.]\n",
      " [1. 1. 1. 0. 0. 0. 0. 0.]\n",
      " [0. 0. 0. 0. 0. 0. 0. 0.]\n",
      " [0. 0. 0. 0. 0. 0. 0. 0.]\n",
      " [0. 0. 0. 0. 0. 0. 0. 0.]\n",
      " [0. 0. 0. 0. 0. 0. 0. 0.]]\n"
     ]
    },
    {
     "name": "stdout",
     "output_type": "stream",
     "text": [
      "* Running on public URL: https://8f7507f160b0b5cce2.gradio.live\n"
     ]
    },
    {
     "data": {
      "text/html": [
       "<div><iframe src=\"https://8f7507f160b0b5cce2.gradio.live\" width=\"100%\" height=\"800\" allow=\"autoplay; camera; microphone; clipboard-read; clipboard-write;\" frameborder=\"0\" allowfullscreen></iframe></div>"
      ],
      "text/plain": [
       "<IPython.core.display.HTML object>"
      ]
     },
     "metadata": {},
     "output_type": "display_data"
    },
    {
     "data": {
      "text/plain": [
       "{}"
      ]
     },
     "execution_count": 4,
     "metadata": {},
     "output_type": "execute_result"
    }
   ],
   "source": [
    "@triton.jit\n",
    "def demo_2d(x_ptr):\n",
    "    i_range = tl.arange(0, 8)[:, None]\n",
    "    j_range = tl.arange(0, 8)[None, :]\n",
    "    range = i_range * 4 + j_range\n",
    "    print(range)\n",
    "    x = tl.load(x_ptr + range, (i_range < 4) & (j_range < 3), 0)\n",
    "    print(x)\n",
    "\n",
    "triton_viz.trace(demo_2d)[(1, 1, 1)](torch.ones(4, 4))\n",
    "triton_viz.launch()"
   ]
  },
  {
   "cell_type": "code",
   "execution_count": 6,
   "metadata": {},
   "outputs": [
    {
     "name": "stdout",
     "output_type": "stream",
     "text": [
      "for each [0], [1. 1. 1. 1. 1. 1. 1. 1.]\n",
      "for each [1], [1. 1. 1. 1. 1. 1. 1. 1.]\n",
      "for each [2], [1. 1. 1. 1. 0. 0. 0. 0.]\n"
     ]
    },
    {
     "name": "stdout",
     "output_type": "stream",
     "text": [
      "* Running on public URL: https://14de7241a88d80285f.gradio.live\n"
     ]
    },
    {
     "data": {
      "text/html": [
       "<div><iframe src=\"https://14de7241a88d80285f.gradio.live\" width=\"100%\" height=\"800\" allow=\"autoplay; camera; microphone; clipboard-read; clipboard-write;\" frameborder=\"0\" allowfullscreen></iframe></div>"
      ],
      "text/plain": [
       "<IPython.core.display.HTML object>"
      ]
     },
     "metadata": {},
     "output_type": "display_data"
    },
    {
     "data": {
      "text/plain": [
       "{}"
      ]
     },
     "execution_count": 6,
     "metadata": {},
     "output_type": "execute_result"
    }
   ],
   "source": [
    "# loading multiple blocks at once. \n",
    "# 3 blocks \n",
    "\n",
    "@triton.jit\n",
    "def demo_blocks(x_ptr):\n",
    "    pid = tl.program_id(0)\n",
    "    range = tl.arange(0, 8) + pid * 8\n",
    "    x = tl.load(x_ptr + range, range < 20)\n",
    "    print(f'for each {pid}, {x}')\n",
    "\n",
    "x = torch.ones(2, 4, 4)\n",
    "triton_viz.trace(demo_blocks)[(3, 1, 1)](x)\n",
    "triton_viz.launch()"
   ]
  },
  {
   "cell_type": "code",
   "execution_count": null,
   "metadata": {},
   "outputs": [],
   "source": []
  }
 ],
 "metadata": {
  "kernelspec": {
   "display_name": "Python 3",
   "language": "python",
   "name": "python3"
  },
  "language_info": {
   "codemirror_mode": {
    "name": "ipython",
    "version": 3
   },
   "file_extension": ".py",
   "mimetype": "text/x-python",
   "name": "python",
   "nbconvert_exporter": "python",
   "pygments_lexer": "ipython3",
   "version": "3.10.12"
  }
 },
 "nbformat": 4,
 "nbformat_minor": 2
}
