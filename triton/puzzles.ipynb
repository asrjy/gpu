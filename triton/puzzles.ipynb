{
 "cells": [
  {
   "cell_type": "code",
   "execution_count": 1,
   "metadata": {},
   "outputs": [],
   "source": [
    "import torch \n",
    "import triton \n",
    "from torch import Tensor \n",
    "import triton.language as tl\n",
    "import jaxtyping \n",
    "from jaxtyping import Float32, Int32"
   ]
  },
  {
   "cell_type": "code",
   "execution_count": 2,
   "metadata": {},
   "outputs": [
    {
     "name": "stderr",
     "output_type": "stream",
     "text": [
      "/home/yash/.local/lib/python3.10/site-packages/tqdm/auto.py:21: TqdmWarning: IProgress not found. Please update jupyter and ipywidgets. See https://ipywidgets.readthedocs.io/en/stable/user_install.html\n",
      "  from .autonotebook import tqdm as notebook_tqdm\n"
     ]
    }
   ],
   "source": [
    "import triton_viz\n",
    "import inspect\n",
    "from triton_viz.interpreter import record_builder\n",
    "\n",
    "import triton_viz\n",
    "import inspect\n",
    "from triton_viz.interpreter import record_builder\n",
    "\n",
    "def test(puzzle, puzzle_spec, nelem={}, B={\"B0\": 32}, viz=True):\n",
    "    B = dict(B)\n",
    "    if \"N1\" in nelem and \"B1\" not in B:\n",
    "        B[\"B1\"] = 32\n",
    "    if \"N2\" in nelem and \"B2\" not in B:\n",
    "        B[\"B2\"] = 32\n",
    "\n",
    "    triton_viz.interpreter.record_builder.reset()\n",
    "    torch.manual_seed(0)\n",
    "    signature = inspect.signature(puzzle_spec)\n",
    "    args = {}\n",
    "    for n, p in signature.parameters.items():\n",
    "        print(p)\n",
    "        args[n + \"_ptr\"] = ([d.size for d in p.annotation.dims], p)\n",
    "    args[\"z_ptr\"] = ([d.size for d in signature.return_annotation.dims], None)\n",
    "\n",
    "    tt_args = []\n",
    "    for k, (v, t) in args.items():\n",
    "        tt_args.append(torch.rand(*v) - 0.5)\n",
    "        if t is not None and t.annotation.dtypes[0] == \"int32\":\n",
    "            tt_args[-1] = torch.randint(-100000, 100000, v)\n",
    "    grid = lambda meta: (triton.cdiv(nelem[\"N0\"], meta[\"B0\"]),\n",
    "                         triton.cdiv(nelem.get(\"N1\", 1), meta.get(\"B1\", 1)),\n",
    "                         triton.cdiv(nelem.get(\"N2\", 1), meta.get(\"B2\", 1)))\n",
    "\n",
    "    #for k, v in args.items():\n",
    "    #    print(k, v)\n",
    "    triton_viz.trace(puzzle)[grid](*tt_args, **B, **nelem)\n",
    "    z = tt_args[-1]\n",
    "    tt_args = tt_args[:-1]\n",
    "    z_ = puzzle_spec(*tt_args)\n",
    "    match = torch.allclose(z, z_, rtol=1e-3, atol=1e-3)\n",
    "    print(\"Results match:\",  match)\n",
    "    failures = False\n",
    "    if viz:\n",
    "        failures = triton_viz.launch()\n",
    "    if not match or failures:\n",
    "        print(\"Invalid Access:\", failures)\n",
    "        print(\"Yours:\", z)\n",
    "        print(\"Spec:\", z_)\n",
    "        print(torch.isclose(z, z_))\n",
    "        return\n",
    "    # PUPPIES!\n",
    "    from IPython.display import HTML\n",
    "    import random\n",
    "    print(\"Correct!\")\n",
    "    pups = [\n",
    "    \"2m78jPG\",\n",
    "    \"pn1e9TO\",\n",
    "    \"MQCIwzT\",\n",
    "    \"udLK6FS\",\n",
    "    \"ZNem5o3\",\n",
    "    \"DS2IZ6K\",\n",
    "    \"aydRUz8\",\n",
    "    \"MVUdQYK\",\n",
    "    \"kLvno0p\",\n",
    "    \"wScLiVz\",\n",
    "    \"Z0TII8i\",\n",
    "    \"F1SChho\",\n",
    "    \"9hRi2jN\",\n",
    "    \"lvzRF3W\",\n",
    "    \"fqHxOGI\",\n",
    "    \"1xeUYme\",\n",
    "    \"6tVqKyM\",\n",
    "    \"CCxZ6Wr\",\n",
    "    \"lMW0OPQ\",\n",
    "    \"wHVpHVG\",\n",
    "    \"Wj2PGRl\",\n",
    "    \"HlaTE8H\",\n",
    "    \"k5jALH0\",\n",
    "    \"3V37Hqr\",\n",
    "    \"Eq2uMTA\",\n",
    "    \"Vy9JShx\",\n",
    "    \"g9I2ZmK\",\n",
    "    \"Nu4RH7f\",\n",
    "    \"sWp0Dqd\",\n",
    "    \"bRKfspn\",\n",
    "    \"qawCMl5\",\n",
    "    \"2F6j2B4\",\n",
    "    \"fiJxCVA\",\n",
    "    \"pCAIlxD\",\n",
    "    \"zJx2skh\",\n",
    "    \"2Gdl1u7\",\n",
    "    \"aJJAY4c\",\n",
    "    \"ros6RLC\",\n",
    "    \"DKLBJh7\",\n",
    "    \"eyxH0Wc\",\n",
    "    \"rJEkEw4\"]\n",
    "    return HTML(\"\"\"\n",
    "    <video alt=\"test\" controls autoplay=1>\n",
    "        <source src=\"https://openpuppies.com/mp4/%s.mp4\"  type=\"video/mp4\">\n",
    "    </video>\n",
    "    \"\"\"%(random.sample(pups, 1)[0]))"
   ]
  },
  {
   "cell_type": "code",
   "execution_count": 3,
   "metadata": {},
   "outputs": [
    {
     "name": "stdout",
     "output_type": "stream",
     "text": [
      "[0 1 2 3 4 5 6 7]\n",
      "[1. 1. 1. 1. 1. 0. 0. 0.]\n"
     ]
    },
    {
     "name": "stdout",
     "output_type": "stream",
     "text": [
      "* Running on public URL: https://2a2e76ba0dc21b70f3.gradio.live\n"
     ]
    },
    {
     "data": {
      "text/html": [
       "<div><iframe src=\"https://2a2e76ba0dc21b70f3.gradio.live\" width=\"100%\" height=\"800\" allow=\"autoplay; camera; microphone; clipboard-read; clipboard-write;\" frameborder=\"0\" allowfullscreen></iframe></div>"
      ],
      "text/plain": [
       "<IPython.core.display.HTML object>"
      ]
     },
     "metadata": {},
     "output_type": "display_data"
    },
    {
     "data": {
      "text/plain": [
       "{}"
      ]
     },
     "execution_count": 3,
     "metadata": {},
     "output_type": "execute_result"
    }
   ],
   "source": [
    "@triton.jit\n",
    "def demo(x_ptr):\n",
    "    range = tl.arange(0, 8)\n",
    "    print(range)\n",
    "    # adding here means we are creating set of memory address to load from. not mathematical addition. \n",
    "    x = tl.load(x_ptr + range, range < 5, 0)\n",
    "    print(x)\n",
    "\n",
    "triton_viz.trace(demo)[(1, 1, 1)](torch.ones(4, 3))\n",
    "triton_viz.launch()"
   ]
  },
  {
   "cell_type": "code",
   "execution_count": 4,
   "metadata": {},
   "outputs": [
    {
     "name": "stdout",
     "output_type": "stream",
     "text": [
      "[[ 0  1  2  3  4  5  6  7]\n",
      " [ 4  5  6  7  8  9 10 11]\n",
      " [ 8  9 10 11 12 13 14 15]\n",
      " [12 13 14 15 16 17 18 19]\n",
      " [16 17 18 19 20 21 22 23]\n",
      " [20 21 22 23 24 25 26 27]\n",
      " [24 25 26 27 28 29 30 31]\n",
      " [28 29 30 31 32 33 34 35]]\n",
      "[[1. 1. 1. 0. 0. 0. 0. 0.]\n",
      " [1. 1. 1. 0. 0. 0. 0. 0.]\n",
      " [1. 1. 1. 0. 0. 0. 0. 0.]\n",
      " [1. 1. 1. 0. 0. 0. 0. 0.]\n",
      " [0. 0. 0. 0. 0. 0. 0. 0.]\n",
      " [0. 0. 0. 0. 0. 0. 0. 0.]\n",
      " [0. 0. 0. 0. 0. 0. 0. 0.]\n",
      " [0. 0. 0. 0. 0. 0. 0. 0.]]\n"
     ]
    },
    {
     "name": "stdout",
     "output_type": "stream",
     "text": [
      "* Running on public URL: https://8f7507f160b0b5cce2.gradio.live\n"
     ]
    },
    {
     "data": {
      "text/html": [
       "<div><iframe src=\"https://8f7507f160b0b5cce2.gradio.live\" width=\"100%\" height=\"800\" allow=\"autoplay; camera; microphone; clipboard-read; clipboard-write;\" frameborder=\"0\" allowfullscreen></iframe></div>"
      ],
      "text/plain": [
       "<IPython.core.display.HTML object>"
      ]
     },
     "metadata": {},
     "output_type": "display_data"
    },
    {
     "data": {
      "text/plain": [
       "{}"
      ]
     },
     "execution_count": 4,
     "metadata": {},
     "output_type": "execute_result"
    }
   ],
   "source": [
    "@triton.jit\n",
    "def demo_2d(x_ptr):\n",
    "    i_range = tl.arange(0, 8)[:, None]\n",
    "    j_range = tl.arange(0, 8)[None, :]\n",
    "    range = i_range * 4 + j_range\n",
    "    print(range)\n",
    "    x = tl.load(x_ptr + range, (i_range < 4) & (j_range < 3), 0)\n",
    "    print(x)\n",
    "\n",
    "triton_viz.trace(demo_2d)[(1, 1, 1)](torch.ones(4, 4))\n",
    "triton_viz.launch()"
   ]
  },
  {
   "cell_type": "code",
   "execution_count": 6,
   "metadata": {},
   "outputs": [
    {
     "name": "stdout",
     "output_type": "stream",
     "text": [
      "for each [0], [1. 1. 1. 1. 1. 1. 1. 1.]\n",
      "for each [1], [1. 1. 1. 1. 1. 1. 1. 1.]\n",
      "for each [2], [1. 1. 1. 1. 0. 0. 0. 0.]\n"
     ]
    },
    {
     "name": "stdout",
     "output_type": "stream",
     "text": [
      "* Running on public URL: https://14de7241a88d80285f.gradio.live\n"
     ]
    },
    {
     "data": {
      "text/html": [
       "<div><iframe src=\"https://14de7241a88d80285f.gradio.live\" width=\"100%\" height=\"800\" allow=\"autoplay; camera; microphone; clipboard-read; clipboard-write;\" frameborder=\"0\" allowfullscreen></iframe></div>"
      ],
      "text/plain": [
       "<IPython.core.display.HTML object>"
      ]
     },
     "metadata": {},
     "output_type": "display_data"
    },
    {
     "data": {
      "text/plain": [
       "{}"
      ]
     },
     "execution_count": 6,
     "metadata": {},
     "output_type": "execute_result"
    }
   ],
   "source": [
    "# loading multiple blocks at once. \n",
    "# 3 blocks \n",
    "\n",
    "@triton.jit\n",
    "def demo_blocks(x_ptr):\n",
    "    pid = tl.program_id(0)\n",
    "    range = tl.arange(0, 8) + pid * 8\n",
    "    x = tl.load(x_ptr + range, range < 20)\n",
    "    print(f'for each {pid}, {x}')\n",
    "\n",
    "x = torch.ones(2, 4, 4)\n",
    "triton_viz.trace(demo_blocks)[(3, 1, 1)](x)\n",
    "triton_viz.launch()"
   ]
  },
  {
   "cell_type": "markdown",
   "metadata": {},
   "source": [
    "## Puzzle 1: Constant Add\n",
    "\n",
    "- add a constant to a vector "
   ]
  },
  {
   "cell_type": "code",
   "execution_count": 13,
   "metadata": {},
   "outputs": [
    {
     "name": "stdout",
     "output_type": "stream",
     "text": [
      "x: jaxtyping.Float32[Tensor, '32']\n",
      "Results match: True\n"
     ]
    },
    {
     "name": "stdout",
     "output_type": "stream",
     "text": [
      "* Running on public URL: https://f7419bc7ad4d442a13.gradio.live\n"
     ]
    },
    {
     "data": {
      "text/html": [
       "<div><iframe src=\"https://f7419bc7ad4d442a13.gradio.live\" width=\"100%\" height=\"800\" allow=\"autoplay; camera; microphone; clipboard-read; clipboard-write;\" frameborder=\"0\" allowfullscreen></iframe></div>"
      ],
      "text/plain": [
       "<IPython.core.display.HTML object>"
      ]
     },
     "metadata": {},
     "output_type": "display_data"
    },
    {
     "name": "stdout",
     "output_type": "stream",
     "text": [
      "Correct!\n"
     ]
    },
    {
     "data": {
      "text/html": [
       "\n",
       "    <video alt=\"test\" controls autoplay=1>\n",
       "        <source src=\"https://openpuppies.com/mp4/aJJAY4c.mp4\"  type=\"video/mp4\">\n",
       "    </video>\n",
       "    "
      ],
      "text/plain": [
       "<IPython.core.display.HTML object>"
      ]
     },
     "execution_count": 13,
     "metadata": {},
     "output_type": "execute_result"
    }
   ],
   "source": [
    "def add_spec(x: Float32[Tensor, \"32\"]) -> Float32[Tensor, \"32\"]:\n",
    "    \"This is the spec that you should implement. Uses typing to define sizes.\"\n",
    "    return x + 10.\n",
    "\n",
    "@triton.jit\n",
    "def add_kernel(x_ptr, z_ptr, N0, B0: tl.constexpr):\n",
    "    offset = tl.arange(0, B0)\n",
    "    x = tl.load(x_ptr + offset)\n",
    "    x = x + 10.0\n",
    "    tl.store(z_ptr + offset, x)\n",
    "    return\n",
    "\n",
    "test(add_kernel, add_spec, nelem={\"N0\": 32}, viz=True)"
   ]
  },
  {
   "cell_type": "markdown",
   "metadata": {},
   "source": [
    "## Puzzle 2: Constant Add\n",
    "\n",
    "- add a constant to a vector where B0 is smaller than N0"
   ]
  },
  {
   "cell_type": "code",
   "execution_count": 4,
   "metadata": {},
   "outputs": [
    {
     "name": "stdout",
     "output_type": "stream",
     "text": [
      "x: jaxtyping.Float32[Tensor, '200']\n",
      "Results match: True\n"
     ]
    },
    {
     "name": "stdout",
     "output_type": "stream",
     "text": [
      "* Running on public URL: https://190133e694ec25a77a.gradio.live\n"
     ]
    },
    {
     "data": {
      "text/html": [
       "<div><iframe src=\"https://190133e694ec25a77a.gradio.live\" width=\"100%\" height=\"800\" allow=\"autoplay; camera; microphone; clipboard-read; clipboard-write;\" frameborder=\"0\" allowfullscreen></iframe></div>"
      ],
      "text/plain": [
       "<IPython.core.display.HTML object>"
      ]
     },
     "metadata": {},
     "output_type": "display_data"
    },
    {
     "name": "stdout",
     "output_type": "stream",
     "text": [
      "Correct!\n"
     ]
    },
    {
     "data": {
      "text/html": [
       "\n",
       "    <video alt=\"test\" controls autoplay=1>\n",
       "        <source src=\"https://openpuppies.com/mp4/aJJAY4c.mp4\"  type=\"video/mp4\">\n",
       "    </video>\n",
       "    "
      ],
      "text/plain": [
       "<IPython.core.display.HTML object>"
      ]
     },
     "execution_count": 4,
     "metadata": {},
     "output_type": "execute_result"
    }
   ],
   "source": [
    "def add2_spec(x: Float32[Tensor, \"200\"]) -> Float32[Tensor, \"200\"]:\n",
    "    return x + 10.\n",
    "\n",
    "@triton.jit\n",
    "def add_mask2_kernel(x_ptr, z_ptr, N0, B0:tl.constexpr):\n",
    "    pid = tl.program_id(0)\n",
    "    offset = pid * B0 + tl.arange(0, B0)\n",
    "    mask = offset < N0\n",
    "    x = tl.load(x_ptr + offset, mask)\n",
    "    x = x + 10.0\n",
    "    tl.store(z_ptr + offset, x, mask = mask)\n",
    "\n",
    "test(add_mask2_kernel, add2_spec, nelem={\"N0\": 200})\n"
   ]
  },
  {
   "cell_type": "markdown",
   "metadata": {},
   "source": [
    "## Puzzle 3\n",
    "- vector addition "
   ]
  },
  {
   "cell_type": "code",
   "execution_count": 3,
   "metadata": {},
   "outputs": [
    {
     "name": "stdout",
     "output_type": "stream",
     "text": [
      "x: jaxtyping.Float32[Tensor, '32']\n",
      "y: jaxtyping.Float32[Tensor, '32']\n",
      "Results match: True\n",
      "* Running on public URL: https://e2296d6d5b1e90f6fb.gradio.live\n"
     ]
    },
    {
     "data": {
      "text/html": [
       "<div><iframe src=\"https://e2296d6d5b1e90f6fb.gradio.live\" width=\"100%\" height=\"800\" allow=\"autoplay; camera; microphone; clipboard-read; clipboard-write;\" frameborder=\"0\" allowfullscreen></iframe></div>"
      ],
      "text/plain": [
       "<IPython.core.display.HTML object>"
      ]
     },
     "metadata": {},
     "output_type": "display_data"
    },
    {
     "name": "stdout",
     "output_type": "stream",
     "text": [
      "Correct!\n"
     ]
    },
    {
     "data": {
      "text/html": [
       "\n",
       "    <video alt=\"test\" controls autoplay=1>\n",
       "        <source src=\"https://openpuppies.com/mp4/Nu4RH7f.mp4\"  type=\"video/mp4\">\n",
       "    </video>\n",
       "    "
      ],
      "text/plain": [
       "<IPython.core.display.HTML object>"
      ]
     },
     "execution_count": 3,
     "metadata": {},
     "output_type": "execute_result"
    }
   ],
   "source": [
    "def add_vec_spec(x: Float32[Tensor, \"32\"], y: Float32[Tensor, \"32\"]) -> Float32[Tensor, \"32 32\"]:\n",
    "    return x[None, :] + y[:, None]\n",
    "\n",
    "@triton.jit\n",
    "def add_vec_kernel(x_ptr, y_ptr, z_ptr, N0, N1, B0: tl.constexpr, B1: tl.constexpr):\n",
    "    offset_x = tl.arange(0, B0)\n",
    "    offset_y = tl.arange(0, B1)\n",
    "    offset_z = offset_y[:, None] * B0 + offset_x[None, :]\n",
    "    x = tl.load(x_ptr + offset_x)\n",
    "    y = tl.load(y_ptr + offset_y)\n",
    "    z = y[:, None] + x[None, :]\n",
    "    tl.store(z_ptr + offset_z, z)\n",
    "    return\n",
    "\n",
    "test(add_vec_kernel, add_vec_spec, nelem={\"N0\": 32, \"N1\": 32})"
   ]
  },
  {
   "cell_type": "markdown",
   "metadata": {},
   "source": [
    "## Puzzle 4: Outer Vector Add Block\n",
    "- add a row vector to a column vector "
   ]
  },
  {
   "cell_type": "code",
   "execution_count": 3,
   "metadata": {},
   "outputs": [
    {
     "name": "stdout",
     "output_type": "stream",
     "text": [
      "x: jaxtyping.Float32[Tensor, '100']\n",
      "y: jaxtyping.Float32[Tensor, '90']\n",
      "Results match: True\n",
      "* Running on public URL: https://2296f9708ac724b883.gradio.live\n"
     ]
    },
    {
     "data": {
      "text/html": [
       "<div><iframe src=\"https://2296f9708ac724b883.gradio.live\" width=\"100%\" height=\"800\" allow=\"autoplay; camera; microphone; clipboard-read; clipboard-write;\" frameborder=\"0\" allowfullscreen></iframe></div>"
      ],
      "text/plain": [
       "<IPython.core.display.HTML object>"
      ]
     },
     "metadata": {},
     "output_type": "display_data"
    },
    {
     "name": "stdout",
     "output_type": "stream",
     "text": [
      "Correct!\n"
     ]
    },
    {
     "data": {
      "text/html": [
       "\n",
       "    <video alt=\"test\" controls autoplay=1>\n",
       "        <source src=\"https://openpuppies.com/mp4/fqHxOGI.mp4\"  type=\"video/mp4\">\n",
       "    </video>\n",
       "    "
      ],
      "text/plain": [
       "<IPython.core.display.HTML object>"
      ]
     },
     "execution_count": 3,
     "metadata": {},
     "output_type": "execute_result"
    }
   ],
   "source": [
    "def add_vec_block_spec(x: Float32[Tensor, \"100\"], y: Float32[Tensor, \"90\"]) -> Float32[Tensor, \"90 100\"]:\n",
    "    return x[None, :] + y[:, None]\n",
    "\n",
    "@triton.jit\n",
    "def add_vec_block_kernel(x_ptr, y_ptr, z_ptr, N0, N1, B0: tl.constexpr, B1: tl.constexpr):\n",
    "    pid_0 = tl.program_id(0)\n",
    "    pid_1 = tl.program_id(1)\n",
    "\n",
    "    offset_x = pid_0 * B0 + tl.arange(0, B0)\n",
    "    offset_y = pid_1 * B1 + tl.arange(0, B1)\n",
    "    offset_z = offset_y[:, None] * N0 + offset_x[None, :]\n",
    "\n",
    "    mask_x = offset_x < N0\n",
    "    mask_y = offset_y < N1\n",
    "    mask_z = mask_y[::, None] & mask_x[None, :]\n",
    "\n",
    "    x = tl.load(x_ptr + offset_x, mask_x)\n",
    "    y = tl.load(y_ptr + offset_y, mask_y)\n",
    "    z = y[:, None] + x[None, :]\n",
    "    tl.store(z_ptr + offset_z, z, mask = mask_z)\n",
    "    return\n",
    "\n",
    "test(add_vec_block_kernel, add_vec_block_spec, nelem={\"N0\": 100, \"N1\": 90})"
   ]
  },
  {
   "cell_type": "markdown",
   "metadata": {},
   "source": [
    "## Puzzle 5 - Fused Outer Multiplication \n",
    "\n",
    "- multiply a row vector with a column vector and perform relu "
   ]
  },
  {
   "cell_type": "code",
   "execution_count": 3,
   "metadata": {},
   "outputs": [
    {
     "name": "stdout",
     "output_type": "stream",
     "text": [
      "x: jaxtyping.Float32[Tensor, '100']\n",
      "y: jaxtyping.Float32[Tensor, '90']\n",
      "Results match: True\n",
      "* Running on public URL: https://1d609ba1488941bb2a.gradio.live\n"
     ]
    },
    {
     "data": {
      "text/html": [
       "<div><iframe src=\"https://1d609ba1488941bb2a.gradio.live\" width=\"100%\" height=\"800\" allow=\"autoplay; camera; microphone; clipboard-read; clipboard-write;\" frameborder=\"0\" allowfullscreen></iframe></div>"
      ],
      "text/plain": [
       "<IPython.core.display.HTML object>"
      ]
     },
     "metadata": {},
     "output_type": "display_data"
    },
    {
     "name": "stdout",
     "output_type": "stream",
     "text": [
      "Correct!\n"
     ]
    },
    {
     "data": {
      "text/html": [
       "\n",
       "    <video alt=\"test\" controls autoplay=1>\n",
       "        <source src=\"https://openpuppies.com/mp4/eyxH0Wc.mp4\"  type=\"video/mp4\">\n",
       "    </video>\n",
       "    "
      ],
      "text/plain": [
       "<IPython.core.display.HTML object>"
      ]
     },
     "execution_count": 3,
     "metadata": {},
     "output_type": "execute_result"
    }
   ],
   "source": [
    "def mul_relu_block_spec(x: Float32[Tensor, \"100\"], y: Float32[Tensor, \"90\"]) -> Float32[Tensor, \"90 100\"]:\n",
    "    return torch.relu(x[None, :] * y[:, None])\n",
    "\n",
    "@triton.jit\n",
    "def mul_relu_block_kernel(x_ptr, y_ptr, z_ptr, N0, N1, B0: tl.constexpr, B1: tl.constexpr):\n",
    "    pid_0 = tl.program_id(0)\n",
    "    pid_1 = tl.program_id(1)\n",
    "    offset_x = pid_0 * B0 + tl.arange(0, B0)\n",
    "    offset_y = pid_1 * B1 + tl.arange(0, B1)\n",
    "    offset_z = offset_y[:, None] * N0 + offset_x[None, :]\n",
    "\n",
    "    mask_x = offset_x < N0\n",
    "    mask_y = offset_y < N1\n",
    "    mask_z = mask_y[:, None] & mask_x[None, :]\n",
    "\n",
    "    x = tl.load(x_ptr + offset_x, mask_x)\n",
    "    y = tl.load(y_ptr + offset_y, mask_y)\n",
    "    z = x[None, :] * y[:, None]\n",
    "    out_z = tl.where(z > 0, z, 0)\n",
    "    tl.store(z_ptr + offset_z, out_z, mask = mask_z)\n",
    "    return\n",
    "\n",
    "test(mul_relu_block_kernel, mul_relu_block_spec, nelem={\"N0\": 100, \"N1\": 90})\n",
    "\n"
   ]
  },
  {
   "cell_type": "markdown",
   "metadata": {},
   "source": [
    "## Puzzle - 6: Fused Outer Multiplication - Backwards\n",
    "- backwards of a function that multiplies a matrix with a row vector and performs relu on top "
   ]
  },
  {
   "cell_type": "code",
   "execution_count": 3,
   "metadata": {},
   "outputs": [
    {
     "name": "stdout",
     "output_type": "stream",
     "text": [
      "x: jaxtyping.Float32[Tensor, '90 100']\n",
      "y: jaxtyping.Float32[Tensor, '90']\n",
      "dz: jaxtyping.Float32[Tensor, '90 100']\n",
      "Results match: True\n",
      "* Running on public URL: https://954bbbd5046cb3fe95.gradio.live\n"
     ]
    },
    {
     "data": {
      "text/html": [
       "<div><iframe src=\"https://954bbbd5046cb3fe95.gradio.live\" width=\"100%\" height=\"800\" allow=\"autoplay; camera; microphone; clipboard-read; clipboard-write;\" frameborder=\"0\" allowfullscreen></iframe></div>"
      ],
      "text/plain": [
       "<IPython.core.display.HTML object>"
      ]
     },
     "metadata": {},
     "output_type": "display_data"
    },
    {
     "name": "stdout",
     "output_type": "stream",
     "text": [
      "Correct!\n"
     ]
    },
    {
     "data": {
      "text/html": [
       "\n",
       "    <video alt=\"test\" controls autoplay=1>\n",
       "        <source src=\"https://openpuppies.com/mp4/fqHxOGI.mp4\"  type=\"video/mp4\">\n",
       "    </video>\n",
       "    "
      ],
      "text/plain": [
       "<IPython.core.display.HTML object>"
      ]
     },
     "execution_count": 3,
     "metadata": {},
     "output_type": "execute_result"
    }
   ],
   "source": [
    "def mul_relu_block_back_spec(x: Float32[Tensor, \"90 100\"], y: Float32[Tensor, \"90\"],\n",
    "                             dz: Float32[Tensor, \"90 100\"]) -> Float32[Tensor, \"90 100\"]:\n",
    "    x = x.clone()\n",
    "    y = y.clone()\n",
    "    x = x.requires_grad_(True)\n",
    "    y = y.requires_grad_(True)\n",
    "    z = torch.relu(x * y[:, None])\n",
    "    z.backward(dz)\n",
    "    dx = x.grad\n",
    "    return dx\n",
    "\n",
    "@triton.jit\n",
    "def mul_relu_block_back_kernel(x_ptr, y_ptr, dz_ptr, dx_ptr, N0, N1, B0: tl.constexpr, B1: tl.constexpr):\n",
    "    pid_0 = tl.program_id(0)\n",
    "    pid_1 = tl.program_id(1)\n",
    "\n",
    "    offset_x = pid_0 * B0 + tl.arange(0, B0)\n",
    "    offset_y = pid_1 * B1 + tl.arange(0, B1)\n",
    "    offset_xy = offset_y[:, None] * N0 + offset_x[None, :]\n",
    "\n",
    "    mask_x = offset_x < N0\n",
    "    mask_y = offset_y < N1\n",
    "    mask_xy = mask_y[:, None] & mask_x[None, :]\n",
    "\n",
    "    x = tl.load(x_ptr + offset_xy, mask=mask_xy)\n",
    "    y = tl.load(y_ptr + offset_y, mask=mask_y)\n",
    "    dz = tl.load(dz_ptr + offset_xy, mask=mask_xy)\n",
    "\n",
    "    # The gradient of relu is 1 if the input is greater than 0, otherwise 0.\n",
    "    df = tl.where(x * y[:, None] > 0, 1.0, 0.0)\n",
    "    dxy_x = y[:, None]\n",
    "    # The gradient of x * y is y. Here we use the chain rule.\n",
    "    dx = df * dxy_x * dz\n",
    "\n",
    "    tl.store(dx_ptr + offset_xy, dx, mask=mask_xy)\n",
    "\n",
    "test(mul_relu_block_back_kernel, mul_relu_block_back_spec, nelem={\"N0\": 100, \"N1\": 90})"
   ]
  },
  {
   "cell_type": "markdown",
   "metadata": {},
   "source": [
    "## Puzzle 7: Long Sum\n",
    "- sum a batch of numbers "
   ]
  },
  {
   "cell_type": "code",
   "execution_count": null,
   "metadata": {
    "vscode": {
     "languageId": "plaintext"
    }
   },
   "outputs": [],
   "source": [
    "def sum_spec(x: Float32[Tensor, \"4 200\"]) -> Float32[Tensor, \"4\"]:\n",
    "    return x.sum(1)\n",
    "\n",
    "@triton.jit\n",
    "def sum_kernel(x_ptr, z_ptr, N0, N1, T, B0: tl.constexpr, B1: tl.constexpr):\n",
    "    pid_i = tl.program_id(0)\n",
    "    off_i = pid_i * B0 + tl.arange(0, B0)\n",
    "    mask_i = off_i < N0\n",
    "\n",
    "    z = tl.zeros([B0], dtype=tl.float32)\n",
    "\n",
    "    for id_j in tl.range(0, T, B1):\n",
    "        off_j = id_j + tl.arange(0, B1)\n",
    "        off_ij = off_i[:, None] * T + off_j[None, :]\n",
    "        mask_j = off_j < T\n",
    "        mask_ij = mask_i[:, None] & mask_j[None, :]\n",
    "        x = tl.load(x_ptr + off_ij, mask=mask_ij)\n",
    "        z += tl.sum(x, axis=1)\n",
    "\n",
    "    tl.store(z_ptr + off_i, z, mask=mask_i)\n",
    "\n",
    "test(sum_kernel, sum_spec, B={\"B0\": 1, \"B1\": 32}, nelem={\"N0\": 4, \"N1\": 32, \"T\": 200})"
   ]
  },
  {
   "cell_type": "markdown",
   "metadata": {},
   "source": [
    "## Puzzle 8 - Long Softmax \n",
    "- softmax on a bunch of logits \n"
   ]
  },
  {
   "cell_type": "code",
   "execution_count": null,
   "metadata": {
    "vscode": {
     "languageId": "plaintext"
    }
   },
   "outputs": [],
   "source": [
    "def softmax_spec(x: Float32[Tensor, \"4 200\"]) -> Float32[Tensor, \"4 200\"]:\n",
    "    x_max = x.max(1, keepdim=True)[0]\n",
    "    x = x - x_max\n",
    "    x_exp = x.exp()\n",
    "    return x_exp / x_exp.sum(1, keepdim=True)\n",
    "\n",
    "@triton.jit\n",
    "def softmax_kernel(x_ptr, z_ptr, N0, N1, T, B0: tl.constexpr, B1: tl.constexpr):\n",
    "    pid_0 = tl.program_id(0)\n",
    "    log2_e = 1.44269504\n",
    "    offset_0 = pid_0 * B0 + tl.arange(0, B0)\n",
    "    mask_0 = offset_0 < N0\n",
    "\n",
    "    exp_sum = tl.zeros([B0], dtype=tl.float32)\n",
    "    x_max = tl.full([B0], -float(\"inf\"), dtype=tl.float32)\n",
    "    new_x_max = tl.full((B0,), -float(\"inf\"), dtype=tl.float32)\n",
    "\n",
    "    for id_j in tl.range(0, T, B1):\n",
    "        off_j = id_j + tl.arange(0, B1)\n",
    "        off_ij = off_i[:, None] * T + off_j[None, :]\n",
    "        mask_j = off_j < T\n",
    "        mask_ij = mask_0[:, None] & mask_j[None, :]\n",
    "        x = tl.load(x_ptr + off_ij, mask=mask_ij)\n",
    "\n",
    "        # exp(x-new_max)=exp(x-old_max+old_max-new_max)=exp(x-old_max)*exp(old_max-new_max)\n",
    "        # This is called \"online softmax\"\n",
    "        new_x_max = tl.maximum(x_max, tl.max(x, axis=1))\n",
    "        new_exp_x = tl.exp2(log2_e * (x - new_x_max[:, None]))\n",
    "        factor = tl.exp2(log2_e * (x_max - new_x_max))\n",
    "        exp_sum = exp_sum * factor + tl.sum(new_exp_x, axis=1)\n",
    "        x_max = new_x_max\n",
    "\n",
    "    for id_j in tl.range(0, T, B1):\n",
    "        off_j = id_j + tl.arange(0, B1)\n",
    "        off_ij = off_i[:, None] * T + off_j[None, :]\n",
    "        mask_j = off_j < T\n",
    "        mask_ij = mask_0[:, None] & mask_j[None, :]\n",
    "        x = tl.load(x_ptr + off_ij, mask=mask_ij)\n",
    "        exp_x = tl.exp2(log2_e * (x - x_max[:, None]))\n",
    "        z = exp_x / exp_sum[:, None]\n",
    "        tl.store(z_ptr + off_ij, z, mask=mask_ij)\n",
    "\n",
    "    return\n",
    "\n",
    "@triton.jit\n",
    "def softmax_kernel_brute_force(\n",
    "    x_ptr, z_ptr, N0, N1, T, B0: tl.constexpr, B1: tl.constexpr\n",
    "):\n",
    "    block_id_i = tl.program_id(0)\n",
    "    log2_e = 1.44269504\n",
    "    off_i = block_id_i * B0 + tl.arange(0, B0)\n",
    "    mask_i = off_i < N0\n",
    "\n",
    "    exp_sum = tl.zeros([B0], dtype=tl.float32)\n",
    "    x_max = tl.zeros([B0], dtype=tl.float32)\n",
    "\n",
    "    for id_j in tl.range(0, T, B1):\n",
    "        off_j = id_j + tl.arange(0, B1)\n",
    "        off_ij = off_i[:, None] * T + off_j[None, :]\n",
    "        mask_j = off_j < T\n",
    "        mask_ij = mask_i[:, None] & mask_j[None, :]\n",
    "        x = tl.load(x_ptr + off_ij, mask=mask_ij)\n",
    "        x_max = tl.maximum(x_max, tl.max(x, axis=1))\n",
    "\n",
    "    for id_j in tl.range(0, T, B1):\n",
    "        off_j = id_j + tl.arange(0, B1)\n",
    "        off_ij = off_i[:, None] * T + off_j[None, :]\n",
    "        mask_j = off_j < T\n",
    "        mask_ij = mask_i[:, None] & mask_j[None, :]\n",
    "        x = tl.load(x_ptr + off_ij, mask=mask_ij)\n",
    "        exp_x = tl.exp2(log2_e * (x - x_max[:, None]))\n",
    "        exp_sum += tl.sum(exp_x, axis=1)\n",
    "\n",
    "    for id_j in tl.range(0, T, B1):\n",
    "        off_j = id_j + tl.arange(0, B1)\n",
    "        off_ij = off_i[:, None] * T + off_j[None, :]\n",
    "        mask_j = off_j < T\n",
    "        mask_ij = mask_i[:, None] & mask_j[None, :]\n",
    "        x = tl.load(x_ptr + off_ij, mask=mask_ij)\n",
    "        exp_x = tl.exp2(log2_e * (x - x_max[:, None]))\n",
    "        z = exp_x / exp_sum[:, None]\n",
    "        tl.store(z_ptr + off_ij, z, mask=mask_ij)\n",
    "\n",
    "    return\n",
    "\n",
    "test(softmax_kernel_brute_force, softmax_spec, B={\"B0\": 1, \"B1\":32},\n",
    "     nelem={\"N0\": 4, \"N1\": 32, \"T\": 200})"
   ]
  }
 ],
 "metadata": {
  "kernelspec": {
   "display_name": "Python 3",
   "language": "python",
   "name": "python3"
  },
  "language_info": {
   "codemirror_mode": {
    "name": "ipython",
    "version": 3
   },
   "file_extension": ".py",
   "mimetype": "text/x-python",
   "name": "python",
   "nbconvert_exporter": "python",
   "pygments_lexer": "ipython3",
   "version": "3.10.12"
  }
 },
 "nbformat": 4,
 "nbformat_minor": 2
}
